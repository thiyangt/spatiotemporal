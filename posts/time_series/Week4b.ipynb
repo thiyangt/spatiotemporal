{
  "cells": [
    {
      "cell_type": "raw",
      "metadata": {},
      "source": [
        "---\n",
        "title: 'Week 5B: Maps using Plotnine (Choropleth, Scatter, and Bubble Maps)'\n",
        "format:\n",
        "  revealjs:\n",
        "    slide-number: true\n",
        "    show-slide-number: all\n",
        "---"
      ],
      "id": "94fbae1f"
    },
    {
      "cell_type": "markdown",
      "metadata": {},
      "source": [
        "## packages\n"
      ],
      "id": "7fdfa2a7"
    },
    {
      "cell_type": "code",
      "metadata": {},
      "source": [
        "#| echo: true\n",
        "import plotnine\n",
        "import geopandas as gpd\n",
        "import pandas as pd"
      ],
      "id": "b41917ee",
      "execution_count": null,
      "outputs": []
    },
    {
      "cell_type": "markdown",
      "metadata": {},
      "source": [
        "## Geospatial data about the whole world\n"
      ],
      "id": "b2924d7a"
    },
    {
      "cell_type": "code",
      "metadata": {},
      "source": [
        "#| echo: true\n",
        "world = gpd.read_file(gpd.datasets.get_path(\"naturalearth_lowres\"))\n",
        "print(\"Geometry Column Name : \", world.geometry.name)\n",
        "print(\"Dataset Size : \", world.shape)\n",
        "world.head()"
      ],
      "id": "5cf0950f",
      "execution_count": null,
      "outputs": []
    },
    {
      "cell_type": "markdown",
      "metadata": {},
      "source": [
        "## US States Geo JSON\n"
      ],
      "id": "289053da"
    },
    {
      "cell_type": "code",
      "metadata": {},
      "source": [
        "#| echo: true\n",
        "us_states_geo = gpd.read_file(\"us-states.json\")\n",
        "\n",
        "us_states_geo.head()"
      ],
      "id": "cbc6756f",
      "execution_count": null,
      "outputs": []
    },
    {
      "cell_type": "markdown",
      "metadata": {},
      "source": [
        "## Work happiness data\n"
      ],
      "id": "67ffabcc"
    },
    {
      "cell_type": "code",
      "metadata": {},
      "source": [
        "#| echo: true\n",
        "world_happiness = pd.read_csv(\"world_happiness_2019.csv\")\n",
        "print(\"Dataset Size : \",world_happiness.shape)\n",
        "world_happiness.head()"
      ],
      "id": "1569e372",
      "execution_count": null,
      "outputs": []
    },
    {
      "cell_type": "markdown",
      "metadata": {},
      "source": [
        "Data:https://github.com/sunny2309/datasets\n",
        "\n",
        "## Merge data\n"
      ],
      "id": "f88a3519"
    },
    {
      "cell_type": "code",
      "metadata": {},
      "source": [
        "#| echo: true\n",
        "world_total_data = world.merge(world_happiness, left_on=\"name\", right_on=\"Country or region\")\n",
        "world_total_data.head()"
      ],
      "id": "c5fe6a5e",
      "execution_count": null,
      "outputs": []
    },
    {
      "cell_type": "markdown",
      "metadata": {},
      "source": [
        "## World Happiness Choropleth Map\n"
      ],
      "id": "87aaf856"
    },
    {
      "cell_type": "code",
      "metadata": {},
      "source": [
        "#| echo: true\n",
        "from plotnine import ggplot, geom_map, aes, scale_fill_cmap, theme, labs\n",
        "\n",
        "chart = ggplot(data=world_total_data, mapping=aes(fill=\"Score\"))\n",
        "map_proj = geom_map()\n",
        "labels = labs(title=\"World Happiness Score Choropleth Map\")\n",
        "theme_details = theme(figure_size=(12,6))\n",
        "colormap = scale_fill_cmap(cmap_name=\"Blues\")\n",
        "\n",
        "world_happiness_choropleth = chart + map_proj + labels + theme_details + colormap\n",
        "\n",
        "world_happiness_choropleth"
      ],
      "id": "be153747",
      "execution_count": null,
      "outputs": []
    },
    {
      "cell_type": "markdown",
      "metadata": {},
      "source": [
        "##\n"
      ],
      "id": "6737ef9a"
    },
    {
      "cell_type": "code",
      "metadata": {},
      "source": [
        "from plotnine import ggplot, geom_map, aes, scale_fill_cmap, theme, labs\n",
        "\n",
        "chart = ggplot(data=world_total_data, mapping=aes(fill=\"Score\"))\n",
        "map_proj = geom_map()\n",
        "labels = labs(title=\"World Happiness Score Choropleth Map\")\n",
        "theme_details = theme(figure_size=(12,6))\n",
        "colormap = scale_fill_cmap(cmap_name=\"Blues\")\n",
        "\n",
        "world_happiness_choropleth = chart + map_proj + labels + theme_details + colormap\n",
        "\n",
        "world_happiness_choropleth"
      ],
      "id": "f0b82e18",
      "execution_count": null,
      "outputs": []
    },
    {
      "cell_type": "markdown",
      "metadata": {},
      "source": [
        "## World Healthy Life Expectancy Choropleth Map\n"
      ],
      "id": "b8e5309c"
    },
    {
      "cell_type": "code",
      "metadata": {},
      "source": [
        "#| echo: true\n",
        "from plotnine import scale_color_cmap\n",
        "\n",
        "chart = ggplot(data=world_total_data, mapping=aes(fill=\"Healthy life expectancy\", color=\"Healthy life expectancy\"))\n",
        "map_proj = geom_map()\n",
        "labels = labs(title=\"World Healthy Life Expectancy Choropleth Map\")\n",
        "theme_details = theme(figure_size=(12,6))\n",
        "fill_colormap = scale_fill_cmap(cmap_name=\"RdYlGn\")\n",
        "color_colormap = scale_color_cmap(cmap_name=\"RdYlGn\")\n",
        "\n",
        "world_happiness_choropleth = chart + map_proj + labels + theme_details + fill_colormap + color_colormap\n",
        "\n",
        "world_happiness_choropleth"
      ],
      "id": "724fdcd5",
      "execution_count": null,
      "outputs": []
    },
    {
      "cell_type": "markdown",
      "metadata": {},
      "source": [
        "## World Healthy Life Expectancy Choropleth Map\n"
      ],
      "id": "771683fc"
    },
    {
      "cell_type": "code",
      "metadata": {},
      "source": [
        "from plotnine import scale_color_cmap\n",
        "\n",
        "chart = ggplot(data=world_total_data, mapping=aes(fill=\"Healthy life expectancy\", color=\"Healthy life expectancy\"))\n",
        "map_proj = geom_map()\n",
        "labels = labs(title=\"World Healthy Life Expectancy Choropleth Map\")\n",
        "theme_details = theme(figure_size=(12,6))\n",
        "fill_colormap = scale_fill_cmap(cmap_name=\"RdYlGn\")\n",
        "color_colormap = scale_color_cmap(cmap_name=\"RdYlGn\")\n",
        "\n",
        "world_happiness_choropleth = chart + map_proj + labels + theme_details + fill_colormap + color_colormap\n",
        "\n",
        "world_happiness_choropleth"
      ],
      "id": "aeae8254",
      "execution_count": null,
      "outputs": []
    },
    {
      "cell_type": "markdown",
      "metadata": {},
      "source": [
        "## Map for ASIA\n"
      ],
      "id": "b31df001"
    },
    {
      "cell_type": "code",
      "metadata": {},
      "source": [
        "#| echo: true\n",
        "asia_data = world_total_data[world_total_data[\"continent\"] == 'Asia']\n",
        "\n",
        "chart = ggplot(data=asia_data, mapping=aes(fill=\"Freedom to make life choices\", color=\"Freedom to make life choices\"))\n",
        "map_proj = geom_map()\n",
        "labels = labs(title=\"Asia freedom to make life choices Choropleth Map\")\n",
        "theme_details = theme(figure_size=(10,7))\n",
        "fill_colormap = scale_fill_cmap(cmap_name=\"PiYG\")\n",
        "color_colormap = scale_color_cmap(cmap_name=\"PiYG\")\n",
        "\n",
        "asia_happiness_choropleth = chart + map_proj + labels + theme_details + fill_colormap + color_colormap\n",
        "\n",
        "asia_happiness_choropleth"
      ],
      "id": "0dfa53ab",
      "execution_count": null,
      "outputs": []
    },
    {
      "cell_type": "markdown",
      "metadata": {},
      "source": [
        "##\n"
      ],
      "id": "d7ee53a6"
    },
    {
      "cell_type": "code",
      "metadata": {},
      "source": [
        "asia_data = world_total_data[world_total_data[\"continent\"] == 'Asia']\n",
        "\n",
        "chart = ggplot(data=asia_data, mapping=aes(fill=\"Freedom to make life choices\", color=\"Freedom to make life choices\"))\n",
        "map_proj = geom_map()\n",
        "labels = labs(title=\"Asia freedom to make life choices Choropleth Map\")\n",
        "theme_details = theme(figure_size=(10,7))\n",
        "fill_colormap = scale_fill_cmap(cmap_name=\"PiYG\")\n",
        "color_colormap = scale_color_cmap(cmap_name=\"PiYG\")\n",
        "\n",
        "asia_happiness_choropleth = chart + map_proj + labels + theme_details + fill_colormap + color_colormap\n",
        "\n",
        "asia_happiness_choropleth"
      ],
      "id": "1914b7c9",
      "execution_count": null,
      "outputs": []
    },
    {
      "cell_type": "markdown",
      "metadata": {},
      "source": [
        "## US States Population 2018 Choropleth Map\n"
      ],
      "id": "0b3e5aba"
    },
    {
      "cell_type": "code",
      "metadata": {},
      "source": [
        "#| echo: true\n",
        "us_state_pop = pd.read_csv(\"State Populations.csv\")\n",
        "us_state_pop.head()"
      ],
      "id": "f8aa97e0",
      "execution_count": null,
      "outputs": []
    },
    {
      "cell_type": "markdown",
      "metadata": {},
      "source": [
        "## Merge data\n"
      ],
      "id": "69da7503"
    },
    {
      "cell_type": "code",
      "metadata": {},
      "source": [
        "#| echo: true\n",
        "us_states_pop = us_states_geo.merge(us_state_pop, left_on=\"name\", right_on=\"State\")\n",
        "\n",
        "us_states_pop.head()"
      ],
      "id": "ec84faeb",
      "execution_count": null,
      "outputs": []
    },
    {
      "cell_type": "markdown",
      "metadata": {},
      "source": [
        "## US population\n"
      ],
      "id": "31d3fd74"
    },
    {
      "cell_type": "code",
      "metadata": {},
      "source": [
        "#| echo: true\n",
        "from plotnine import scale_color_cmap, xlim, ylim, element_rect\n",
        "\n",
        "chart = ggplot()\n",
        "map_proj = geom_map(data=us_states_pop, mapping=aes(fill=\"2018 Population\", color=\"2018 Population\"))\n",
        "labels = labs(title=\"US 2018 Population Choropleth Map\")\n",
        "theme_details = theme(figure_size=(10,6), panel_background=element_rect(fill=\"snow\"))\n",
        "fill_colormap = scale_fill_cmap(cmap_name=\"RdYlBu\")\n",
        "color_colormap = scale_color_cmap(cmap_name=\"RdYlBu\")\n",
        "xlimit = xlim(-170,-60)\n",
        "ylimit = ylim(25, 72)\n",
        "\n",
        "us_pop_choropleth = chart + map_proj + labels + theme_details + fill_colormap + color_colormap + xlimit + ylimit\n",
        "\n",
        "us_pop_choropleth"
      ],
      "id": "fa3c4ee1",
      "execution_count": null,
      "outputs": []
    },
    {
      "cell_type": "markdown",
      "metadata": {},
      "source": [
        "##\n"
      ],
      "id": "d0ad2703"
    },
    {
      "cell_type": "code",
      "metadata": {},
      "source": [
        "from plotnine import scale_color_cmap, xlim, ylim, element_rect\n",
        "\n",
        "chart = ggplot()\n",
        "map_proj = geom_map(data=us_states_pop, mapping=aes(fill=\"2018 Population\", color=\"2018 Population\"))\n",
        "labels = labs(title=\"US 2018 Population Choropleth Map\")\n",
        "theme_details = theme(figure_size=(10,6), panel_background=element_rect(fill=\"snow\"))\n",
        "fill_colormap = scale_fill_cmap(cmap_name=\"RdYlBu\")\n",
        "color_colormap = scale_color_cmap(cmap_name=\"RdYlBu\")\n",
        "xlimit = xlim(-170,-60)\n",
        "ylimit = ylim(25, 72)\n",
        "\n",
        "us_pop_choropleth = chart + map_proj + labels + theme_details + fill_colormap + color_colormap + xlimit + ylimit\n",
        "\n",
        "us_pop_choropleth"
      ],
      "id": "646fec21",
      "execution_count": null,
      "outputs": []
    },
    {
      "cell_type": "markdown",
      "metadata": {},
      "source": [
        "## Starbucks Store Count Per US States\n"
      ],
      "id": "089cd8c9"
    },
    {
      "cell_type": "code",
      "metadata": {},
      "source": [
        "#| echo: true\n",
        "starbucks_stores = pd.read_csv(\"starbucks_store_locations.csv\")\n",
        "\n",
        "starbucks_stores.head()"
      ],
      "id": "95122361",
      "execution_count": null,
      "outputs": []
    },
    {
      "cell_type": "markdown",
      "metadata": {},
      "source": [
        "## Extract US data\n"
      ],
      "id": "7bd37c82"
    },
    {
      "cell_type": "code",
      "metadata": {},
      "source": [
        "#| echo: true\n",
        "us_stores = starbucks_stores[starbucks_stores.Country==\"US\"]\n",
        "us_stores_statewise_cnt = us_stores.groupby(\"State/Province\").count()[[\"Store Name\"]].rename(columns={\"Store Name\":\"Count\"})\n",
        "us_stores_statewise_cnt = us_stores_statewise_cnt.reset_index()\n",
        "us_stores_statewise_cnt.head()"
      ],
      "id": "94e6a043",
      "execution_count": null,
      "outputs": []
    },
    {
      "cell_type": "markdown",
      "metadata": {},
      "source": [
        "## Merge data\n"
      ],
      "id": "f22fe7b4"
    },
    {
      "cell_type": "code",
      "metadata": {},
      "source": [
        "#| echo: true\n",
        "us_stores_statewise = us_states_geo.merge(us_stores_statewise_cnt, left_on=\"id\", right_on=\"State/Province\")\n",
        "\n",
        "us_stores_statewise.head()\n",
        "id\t"
      ],
      "id": "9b4c0c37",
      "execution_count": null,
      "outputs": []
    },
    {
      "cell_type": "markdown",
      "metadata": {},
      "source": [
        "## Map\n"
      ],
      "id": "18bd0153"
    },
    {
      "cell_type": "code",
      "metadata": {},
      "source": [
        "#| echo: true\n",
        "from plotnine import scale_color_cmap, xlim, ylim, element_rect\n",
        "\n",
        "chart = ggplot()\n",
        "map_proj = geom_map(data=us_stores_statewise, mapping=aes(fill=\"Count\", color=\"Count\"))\n",
        "labels = labs(title=\"Starbucks US Stores Choropleth Map\")\n",
        "theme_details = theme(figure_size=(10,6), panel_background=element_rect(fill=\"#a3ccff\"))\n",
        "fill_colormap = scale_fill_cmap(cmap_name=\"RdBu\")\n",
        "color_colormap = scale_color_cmap(cmap_name=\"RdBu\")\n",
        "xlimit = xlim(-170,-60)\n",
        "ylimit = ylim(25, 72)\n",
        "\n",
        "us_stores_choropleth = chart + map_proj + labels + theme_details + fill_colormap + color_colormap + xlimit + ylimit\n",
        "\n",
        "us_stores_choropleth"
      ],
      "id": "ff535e0b",
      "execution_count": null,
      "outputs": []
    },
    {
      "cell_type": "markdown",
      "metadata": {},
      "source": [
        "## \n"
      ],
      "id": "7d77bf34"
    },
    {
      "cell_type": "code",
      "metadata": {},
      "source": [
        "from plotnine import scale_color_cmap, xlim, ylim, element_rect\n",
        "\n",
        "chart = ggplot()\n",
        "map_proj = geom_map(data=us_stores_statewise, mapping=aes(fill=\"Count\", color=\"Count\"))\n",
        "labels = labs(title=\"Starbucks US Stores Choropleth Map\")\n",
        "theme_details = theme(figure_size=(10,6), panel_background=element_rect(fill=\"#a3ccff\"))\n",
        "fill_colormap = scale_fill_cmap(cmap_name=\"RdBu\")\n",
        "color_colormap = scale_color_cmap(cmap_name=\"RdBu\")\n",
        "xlimit = xlim(-170,-60)\n",
        "ylimit = ylim(25, 72)\n",
        "\n",
        "us_stores_choropleth = chart + map_proj + labels + theme_details + fill_colormap + color_colormap + xlimit + ylimit\n",
        "\n",
        "us_stores_choropleth"
      ],
      "id": "51dd9983",
      "execution_count": null,
      "outputs": []
    },
    {
      "cell_type": "markdown",
      "metadata": {},
      "source": [
        "## Scatter map\n"
      ],
      "id": "e8ed5aec"
    },
    {
      "cell_type": "code",
      "metadata": {},
      "source": [
        "# echo: true\n",
        "from plotnine import geom_point\n",
        "\n",
        "chart = ggplot(data=world)\n",
        "map_proj = geom_map(fill=\"white\", color=\"lightgrey\")\n",
        "labels = labs(title=\"World Starbucks Stores Scatter Map\")\n",
        "theme_details = theme(figure_size=(12,6.5))\n",
        "\n",
        "scatter_points = geom_point(data=starbucks_stores.dropna(),\n",
        "                            mapping=aes(x=\"Longitude\", y=\"Latitude\"),\n",
        "                            color=\"tomato\", alpha=0.3, size=1)\n",
        "\n",
        "world_starbucks_stores = chart + map_proj + labels + theme_details + scatter_points\n",
        "\n",
        "world_starbucks_stores"
      ],
      "id": "a8f3ebb4",
      "execution_count": null,
      "outputs": []
    },
    {
      "cell_type": "markdown",
      "metadata": {},
      "source": [
        "## \n"
      ],
      "id": "8529ae62"
    },
    {
      "cell_type": "code",
      "metadata": {},
      "source": [
        "from plotnine import geom_point\n",
        "\n",
        "chart = ggplot(data=world)\n",
        "map_proj = geom_map(fill=\"white\", color=\"lightgrey\")\n",
        "labels = labs(title=\"World Starbucks Stores Scatter Map\")\n",
        "theme_details = theme(figure_size=(12,6.5))\n",
        "\n",
        "scatter_points = geom_point(data=starbucks_stores.dropna(),\n",
        "                            mapping=aes(x=\"Longitude\", y=\"Latitude\"),\n",
        "                            color=\"tomato\", alpha=0.3, size=1)\n",
        "\n",
        "world_starbucks_stores = chart + map_proj + labels + theme_details + scatter_points\n",
        "\n",
        "world_starbucks_stores"
      ],
      "id": "2dd13f45",
      "execution_count": null,
      "outputs": []
    },
    {
      "cell_type": "markdown",
      "metadata": {},
      "source": [
        "## US scatter map\n"
      ],
      "id": "e16548a8"
    },
    {
      "cell_type": "code",
      "metadata": {},
      "source": [
        "#| echo: true\n",
        "chart = ggplot(data=us_states_geo)\n",
        "map_proj = geom_map(fill=\"white\", color=\"lightgrey\")\n",
        "labels = labs(title=\"US Starbucks Stores Map\")\n",
        "theme_details = theme(figure_size=(12,6.5))\n",
        "xlimit = xlim(-170,-60)\n",
        "ylimit = ylim(25, 72)\n",
        "\n",
        "scatter_points = geom_point(data=us_stores.dropna(),\n",
        "                            mapping=aes(x=\"Longitude\", y=\"Latitude\"),\n",
        "                            color=\"tomato\", alpha=0.3, size=1)\n",
        "\n",
        "us_starbucks_stores = chart + map_proj + labels + theme_details + xlimit + ylimit + scatter_points\n",
        "\n",
        "us_starbucks_stores"
      ],
      "id": "6ef53dd6",
      "execution_count": null,
      "outputs": []
    },
    {
      "cell_type": "markdown",
      "metadata": {},
      "source": [
        "## \n"
      ],
      "id": "45e2fe62"
    },
    {
      "cell_type": "code",
      "metadata": {},
      "source": [
        "chart = ggplot(data=us_states_geo)\n",
        "map_proj = geom_map(fill=\"white\", color=\"lightgrey\")\n",
        "labels = labs(title=\"US Starbucks Stores Map\")\n",
        "theme_details = theme(figure_size=(12,6.5))\n",
        "xlimit = xlim(-170,-60)\n",
        "ylimit = ylim(25, 72)\n",
        "\n",
        "scatter_points = geom_point(data=us_stores.dropna(),\n",
        "                            mapping=aes(x=\"Longitude\", y=\"Latitude\"),\n",
        "                            color=\"tomato\", alpha=0.3, size=1)\n",
        "\n",
        "us_starbucks_stores = chart + map_proj + labels + theme_details + xlimit + ylimit + scatter_points\n",
        "\n",
        "us_starbucks_stores"
      ],
      "id": "435e0a3e",
      "execution_count": null,
      "outputs": []
    },
    {
      "cell_type": "markdown",
      "metadata": {},
      "source": [
        "## Store Count per US States Bubble Map\n"
      ],
      "id": "28b0c160"
    },
    {
      "cell_type": "code",
      "metadata": {},
      "source": [
        "#| echo: true\n",
        "def calculate_center(df):\n",
        "    \"\"\"\n",
        "    Calculate the centre of a geometry\n",
        "\n",
        "    This method first converts to a planar crs, gets the centroid\n",
        "    then converts back to the original crs. This gives a more\n",
        "    accurate\n",
        "    \"\"\"\n",
        "    original_crs = df.crs\n",
        "    planar_crs = 'EPSG:3857'\n",
        "    return df['geometry'].to_crs(planar_crs).centroid.to_crs(original_crs)\n",
        "\n",
        "us_stores_statewise[\"center\"] = calculate_center(us_stores_statewise)\n",
        "us_stores_statewise[\"x\"] = [val.x for val in us_stores_statewise.center]\n",
        "us_stores_statewise[\"x2\"] = [val.x+2.2 for val in us_stores_statewise.center]\n",
        "us_stores_statewise[\"y\"] = [val.y for val in us_stores_statewise.center]\n"
      ],
      "id": "ba7d6571",
      "execution_count": null,
      "outputs": []
    },
    {
      "cell_type": "markdown",
      "metadata": {},
      "source": [
        "##\n"
      ],
      "id": "a7e26ba7"
    },
    {
      "cell_type": "code",
      "metadata": {},
      "source": [
        "#| echo: true\n",
        "us_stores_statewise.head()"
      ],
      "id": "2833af25",
      "execution_count": null,
      "outputs": []
    },
    {
      "cell_type": "markdown",
      "metadata": {},
      "source": [
        "## Bubble map\n"
      ],
      "id": "5f50a016"
    },
    {
      "cell_type": "code",
      "metadata": {},
      "source": [
        "#| echo: true\n",
        "from plotnine import geom_text\n",
        "\n",
        "chart = ggplot(data=us_states_geo)\n",
        "map_proj = geom_map(fill=\"white\", color=\"lightgrey\")\n",
        "labels = labs(x=\"Longitude\", y=\"Latitude\", title=\"US Starbucks Stores Count Bubble Map\", size=\"Store Count\")\n",
        "theme_details = theme(figure_size=(12,6.5))\n",
        "xlimit = xlim(-170,-60)\n",
        "ylimit = ylim(25, 72)\n",
        "\n",
        "scatter_points = geom_point(data=us_stores_statewise.dropna(),\n",
        "                            mapping=aes(x=\"x\", y=\"y\", size=\"Count\"),\n",
        "                            color=\"tomato\", alpha=0.7)\n",
        "\n",
        "texts = geom_text(data=us_stores_statewise.dropna(),\n",
        "                            mapping=aes(x=\"x2\", y=\"y\", label=\"State/Province\"),\n",
        "                            color=\"black\", size=8)\n",
        "\n",
        "us_starbucks_stores = chart + map_proj + labels + theme_details + xlimit + ylimit + scatter_points + texts\n",
        "\n",
        "us_starbucks_stores"
      ],
      "id": "2137d62d",
      "execution_count": null,
      "outputs": []
    },
    {
      "cell_type": "markdown",
      "metadata": {},
      "source": [
        "##\n"
      ],
      "id": "6c0a4441"
    },
    {
      "cell_type": "code",
      "metadata": {},
      "source": [
        "from plotnine import geom_text\n",
        "\n",
        "chart = ggplot(data=us_states_geo)\n",
        "map_proj = geom_map(fill=\"white\", color=\"lightgrey\")\n",
        "labels = labs(x=\"Longitude\", y=\"Latitude\", title=\"US Starbucks Stores Count Bubble Map\", size=\"Store Count\")\n",
        "theme_details = theme(figure_size=(12,6.5))\n",
        "xlimit = xlim(-170,-60)\n",
        "ylimit = ylim(25, 72)\n",
        "\n",
        "scatter_points = geom_point(data=us_stores_statewise.dropna(),\n",
        "                            mapping=aes(x=\"x\", y=\"y\", size=\"Count\"),\n",
        "                            color=\"tomato\", alpha=0.7)\n",
        "\n",
        "texts = geom_text(data=us_stores_statewise.dropna(),\n",
        "                            mapping=aes(x=\"x2\", y=\"y\", label=\"State/Province\"),\n",
        "                            color=\"black\", size=8)\n",
        "\n",
        "us_starbucks_stores = chart + map_proj + labels + theme_details + xlimit + ylimit + scatter_points + texts\n",
        "\n",
        "us_starbucks_stores"
      ],
      "id": "326d04cb",
      "execution_count": null,
      "outputs": []
    },
    {
      "cell_type": "markdown",
      "metadata": {},
      "source": [
        "## Source\n",
        "\n",
        "https://coderzcolumn.com/tutorials/data-science/maps-using-plotnine-choropleth-scatter-bubble-maps"
      ],
      "id": "988f7a03"
    }
  ],
  "metadata": {
    "kernelspec": {
      "name": "python3",
      "language": "python",
      "display_name": "Python 3 (ipykernel)"
    }
  },
  "nbformat": 4,
  "nbformat_minor": 5
}